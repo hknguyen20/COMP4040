{
  "nbformat": 4,
  "nbformat_minor": 0,
  "metadata": {
    "colab": {
      "provenance": [],
      "collapsed_sections": [
        "Ey5685ry-MaG"
      ]
    },
    "kernelspec": {
      "name": "python3",
      "display_name": "Python 3"
    },
    "language_info": {
      "name": "python"
    }
  },
  "cells": [
    {
      "cell_type": "markdown",
      "source": [
        "# (Archive) Use google image search API"
      ],
      "metadata": {
        "id": "Ey5685ry-MaG"
      }
    },
    {
      "cell_type": "code",
      "execution_count": 3,
      "metadata": {
        "colab": {
          "base_uri": "https://localhost:8080/"
        },
        "id": "mVsLPYCQXGka",
        "outputId": "3e51bb1a-011d-40fd-80ec-f0c517cc5996"
      },
      "outputs": [
        {
          "output_type": "stream",
          "name": "stdout",
          "text": [
            "Collecting google_images_search\n",
            "  Downloading Google_Images_Search-1.4.6-py2.py3-none-any.whl (12 kB)\n",
            "Collecting colorama~=0.4 (from google_images_search)\n",
            "  Downloading colorama-0.4.6-py2.py3-none-any.whl (25 kB)\n",
            "Collecting pyfiglet~=0.8 (from google_images_search)\n",
            "  Downloading pyfiglet-0.8.post1-py2.py3-none-any.whl (865 kB)\n",
            "\u001b[2K     \u001b[90m━━━━━━━━━━━━━━━━━━━━━━━━━━━━━━━━━━━━━━━━\u001b[0m \u001b[32m865.8/865.8 kB\u001b[0m \u001b[31m15.1 MB/s\u001b[0m eta \u001b[36m0:00:00\u001b[0m\n",
            "\u001b[?25hCollecting termcolor~=1.1 (from google_images_search)\n",
            "  Downloading termcolor-1.1.0.tar.gz (3.9 kB)\n",
            "  Preparing metadata (setup.py) ... \u001b[?25l\u001b[?25hdone\n",
            "Requirement already satisfied: click>=7.0<=8.1.* in /usr/local/lib/python3.10/dist-packages (from google_images_search) (8.1.7)\n",
            "Requirement already satisfied: six~=1.12 in /usr/local/lib/python3.10/dist-packages (from google_images_search) (1.16.0)\n",
            "Requirement already satisfied: requests~=2.21 in /usr/local/lib/python3.10/dist-packages (from google_images_search) (2.31.0)\n",
            "Requirement already satisfied: Pillow>=8.1.1 in /usr/local/lib/python3.10/dist-packages (from google_images_search) (9.4.0)\n",
            "Collecting python-resize-image~=1.1 (from google_images_search)\n",
            "  Downloading python_resize_image-1.1.20-py2.py3-none-any.whl (8.4 kB)\n",
            "Collecting google-api-python-client~=2.48.0 (from google_images_search)\n",
            "  Downloading google_api_python_client-2.48.0-py2.py3-none-any.whl (8.5 MB)\n",
            "\u001b[2K     \u001b[90m━━━━━━━━━━━━━━━━━━━━━━━━━━━━━━━━━━━━━━━━\u001b[0m \u001b[32m8.5/8.5 MB\u001b[0m \u001b[31m54.9 MB/s\u001b[0m eta \u001b[36m0:00:00\u001b[0m\n",
            "\u001b[?25hRequirement already satisfied: httplib2<1dev,>=0.15.0 in /usr/local/lib/python3.10/dist-packages (from google-api-python-client~=2.48.0->google_images_search) (0.22.0)\n",
            "Requirement already satisfied: google-auth<3.0.0dev,>=1.16.0 in /usr/local/lib/python3.10/dist-packages (from google-api-python-client~=2.48.0->google_images_search) (2.27.0)\n",
            "Requirement already satisfied: google-auth-httplib2>=0.1.0 in /usr/local/lib/python3.10/dist-packages (from google-api-python-client~=2.48.0->google_images_search) (0.1.1)\n",
            "Requirement already satisfied: google-api-core!=2.0.*,!=2.1.*,!=2.2.*,!=2.3.0,<3.0.0dev,>=1.31.5 in /usr/local/lib/python3.10/dist-packages (from google-api-python-client~=2.48.0->google_images_search) (2.11.1)\n",
            "Requirement already satisfied: uritemplate<5,>=3.0.1 in /usr/local/lib/python3.10/dist-packages (from google-api-python-client~=2.48.0->google_images_search) (4.1.1)\n",
            "Requirement already satisfied: charset-normalizer<4,>=2 in /usr/local/lib/python3.10/dist-packages (from requests~=2.21->google_images_search) (3.3.2)\n",
            "Requirement already satisfied: idna<4,>=2.5 in /usr/local/lib/python3.10/dist-packages (from requests~=2.21->google_images_search) (3.7)\n",
            "Requirement already satisfied: urllib3<3,>=1.21.1 in /usr/local/lib/python3.10/dist-packages (from requests~=2.21->google_images_search) (2.0.7)\n",
            "Requirement already satisfied: certifi>=2017.4.17 in /usr/local/lib/python3.10/dist-packages (from requests~=2.21->google_images_search) (2024.6.2)\n",
            "Requirement already satisfied: googleapis-common-protos<2.0.dev0,>=1.56.2 in /usr/local/lib/python3.10/dist-packages (from google-api-core!=2.0.*,!=2.1.*,!=2.2.*,!=2.3.0,<3.0.0dev,>=1.31.5->google-api-python-client~=2.48.0->google_images_search) (1.63.1)\n",
            "Requirement already satisfied: protobuf!=3.20.0,!=3.20.1,!=4.21.0,!=4.21.1,!=4.21.2,!=4.21.3,!=4.21.4,!=4.21.5,<5.0.0.dev0,>=3.19.5 in /usr/local/lib/python3.10/dist-packages (from google-api-core!=2.0.*,!=2.1.*,!=2.2.*,!=2.3.0,<3.0.0dev,>=1.31.5->google-api-python-client~=2.48.0->google_images_search) (3.20.3)\n",
            "Requirement already satisfied: cachetools<6.0,>=2.0.0 in /usr/local/lib/python3.10/dist-packages (from google-auth<3.0.0dev,>=1.16.0->google-api-python-client~=2.48.0->google_images_search) (5.3.3)\n",
            "Requirement already satisfied: pyasn1-modules>=0.2.1 in /usr/local/lib/python3.10/dist-packages (from google-auth<3.0.0dev,>=1.16.0->google-api-python-client~=2.48.0->google_images_search) (0.4.0)\n",
            "Requirement already satisfied: rsa<5,>=3.1.4 in /usr/local/lib/python3.10/dist-packages (from google-auth<3.0.0dev,>=1.16.0->google-api-python-client~=2.48.0->google_images_search) (4.9)\n",
            "Requirement already satisfied: pyparsing!=3.0.0,!=3.0.1,!=3.0.2,!=3.0.3,<4,>=2.4.2 in /usr/local/lib/python3.10/dist-packages (from httplib2<1dev,>=0.15.0->google-api-python-client~=2.48.0->google_images_search) (3.1.2)\n",
            "Requirement already satisfied: pyasn1<0.7.0,>=0.4.6 in /usr/local/lib/python3.10/dist-packages (from pyasn1-modules>=0.2.1->google-auth<3.0.0dev,>=1.16.0->google-api-python-client~=2.48.0->google_images_search) (0.6.0)\n",
            "Building wheels for collected packages: termcolor\n",
            "  Building wheel for termcolor (setup.py) ... \u001b[?25l\u001b[?25hdone\n",
            "  Created wheel for termcolor: filename=termcolor-1.1.0-py3-none-any.whl size=4832 sha256=a733812c55e19b9cf18eacf35142fd89b7eb23d3acdccc293d1a2acd913ac2cc\n",
            "  Stored in directory: /root/.cache/pip/wheels/a1/49/46/1b13a65d8da11238af9616b00fdde6d45b0f95d9291bac8452\n",
            "Successfully built termcolor\n",
            "Installing collected packages: termcolor, pyfiglet, colorama, python-resize-image, google-api-python-client, google_images_search\n",
            "  Attempting uninstall: termcolor\n",
            "    Found existing installation: termcolor 2.4.0\n",
            "    Uninstalling termcolor-2.4.0:\n",
            "      Successfully uninstalled termcolor-2.4.0\n",
            "  Attempting uninstall: google-api-python-client\n",
            "    Found existing installation: google-api-python-client 2.84.0\n",
            "    Uninstalling google-api-python-client-2.84.0:\n",
            "      Successfully uninstalled google-api-python-client-2.84.0\n",
            "Successfully installed colorama-0.4.6 google-api-python-client-2.48.0 google_images_search-1.4.6 pyfiglet-0.8.post1 python-resize-image-1.1.20 termcolor-1.1.0\n"
          ]
        }
      ],
      "source": [
        "!pip install google_images_search"
      ]
    },
    {
      "cell_type": "code",
      "source": [
        "from google.colab import drive\n",
        "drive.mount('/content/drive')"
      ],
      "metadata": {
        "colab": {
          "base_uri": "https://localhost:8080/"
        },
        "id": "G12IhKRJGz1F",
        "outputId": "db2ea171-ccaa-4de0-dfd7-7c30f7b667bb"
      },
      "execution_count": 1,
      "outputs": [
        {
          "output_type": "stream",
          "name": "stdout",
          "text": [
            "Drive already mounted at /content/drive; to attempt to forcibly remount, call drive.mount(\"/content/drive\", force_remount=True).\n"
          ]
        }
      ]
    },
    {
      "cell_type": "code",
      "source": [
        "from google_images_search import GoogleImagesSearch\n",
        "import os\n",
        "\n",
        "GCS_DEVELOPER_KEY = ''\n",
        "GCS_CX = ''\n",
        "gis = GoogleImagesSearch(GCS_DEVELOPER_KEY, GCS_CX)"
      ],
      "metadata": {
        "id": "-qnzleesXK2q"
      },
      "execution_count": 4,
      "outputs": []
    },
    {
      "cell_type": "code",
      "source": [
        "query = 'hateful singapore racist meme'\n",
        "search_params = {\n",
        "    'q': query,\n",
        "    'num': 10,  # Number of images to retrieve\n",
        "    'safe': 'off',  # Filter for safe content\n",
        "}"
      ],
      "metadata": {
        "id": "YnzTe7cUb2oX"
      },
      "execution_count": null,
      "outputs": []
    },
    {
      "cell_type": "code",
      "source": [
        "gis.search(search_params=search_params)\n",
        "folder_name = query.replace(' ', '-')\n",
        "save_dir = f'/content/drive/MyDrive/Meme/Raw/{folder_name}'\n",
        "os.makedirs(save_dir, exist_ok=True)\n",
        "\n",
        "for image in gis.results():\n",
        "    image.download(save_dir)"
      ],
      "metadata": {
        "id": "iGd0ISBeZORY"
      },
      "execution_count": null,
      "outputs": []
    },
    {
      "cell_type": "markdown",
      "source": [
        "# Format Images"
      ],
      "metadata": {
        "id": "vPjJtzhj-x_B"
      }
    },
    {
      "cell_type": "code",
      "source": [
        "# !unzip /content/drive/MyDrive/Meme/Non-harmful/Non-Harmful.zip -d /content/drive/MyDrive/Meme/Non-harmful/totaldef"
      ],
      "metadata": {
        "id": "hEllr3DXv-Jv"
      },
      "execution_count": null,
      "outputs": []
    },
    {
      "cell_type": "code",
      "source": [
        "import os\n",
        "import json\n",
        "\n",
        "def generate_metadata(folder_path1, folder_path2, save_folder):\n",
        "  os.makedirs(save_folder, exist_ok=True)\n",
        "  os.makedirs(f\"{save_folder}/img\", exist_ok=True)\n",
        "  metadata = []\n",
        "  index = 0\n",
        "  # Process Harmful images\n",
        "  for filename in os.listdir(folder_path1):\n",
        "    if filename.endswith(('.jpg', '.jpeg', '.png')):\n",
        "      # image_path = os.path.join(folder_path1, filename)\n",
        "      # im = Image.open(image_path)\n",
        "      # im.save(f'{save_folder}/img/{str(index).zfill(4)}.png')\n",
        "      metadata.append({\"id\": index, \"img\": f\"img/{str(index).zfill(4)}.png\", \"label\": 1, \"text\": \"\"})\n",
        "      index += 1\n",
        "\n",
        "  # Process Non-Harmful images\n",
        "  for filename in os.listdir(folder_path2):\n",
        "    if filename.endswith(('.jpg', '.jpeg', '.png')):\n",
        "      # image_path = os.path.join(folder_path2, filename)\n",
        "      # im = Image.open(image_path)\n",
        "      # im.save(f'{save_folder}/img/{str(index).zfill(4)}.png')\n",
        "      metadata.append({\"id\": index, \"img\": f\"img/{str(index).zfill(4)}.png\", \"label\": 0, \"text\": \"\"})\n",
        "      index += 1\n",
        "\n",
        "  return metadata\n",
        "\n",
        "metadata = generate_metadata('/content/drive/MyDrive/Meme/Harmful/', '/content/drive/MyDrive/Meme/Non-harmful', '/content/drive/MyDrive/Meme/data')"
      ],
      "metadata": {
        "id": "1hvI3ft6R9X_"
      },
      "execution_count": null,
      "outputs": []
    },
    {
      "cell_type": "code",
      "source": [
        "\n",
        "import json\n",
        "\n",
        "with open('/content/drive/MyDrive/Meme/data/train.jsonl', 'w') as f:\n",
        "  for item in metadata:\n",
        "    json.dump(item, f)\n",
        "    f.write('\\n')\n"
      ],
      "metadata": {
        "id": "juZsgFT2g8JN"
      },
      "execution_count": null,
      "outputs": []
    },
    {
      "cell_type": "code",
      "source": [
        "with open('/content/drive/MyDrive/Meme/data/train.jsonl', 'r') as f:\n",
        "  lines = f.readlines()\n",
        "\n",
        "num_zeros = 0\n",
        "num_ones = 0\n",
        "\n",
        "for line in lines:\n",
        "  data = json.loads(line)\n",
        "  if data['label'] == 0:\n",
        "    num_zeros += 1\n",
        "  else:\n",
        "    num_ones += 1\n",
        "\n",
        "print(f'Number of 0 labels: {num_zeros}')\n",
        "print(f'Number of 1 labels: {num_ones}')\n"
      ],
      "metadata": {
        "colab": {
          "base_uri": "https://localhost:8080/"
        },
        "id": "8Rkt6FaAirBN",
        "outputId": "18da6bef-7866-46a2-9635-357b8f56fba0"
      },
      "execution_count": null,
      "outputs": [
        {
          "output_type": "stream",
          "name": "stdout",
          "text": [
            "Number of 0 labels: 1067\n",
            "Number of 1 labels: 277\n"
          ]
        }
      ]
    },
    {
      "cell_type": "code",
      "source": [
        "import os\n",
        "\n",
        "def count_images(folder):\n",
        "    total_images = 0\n",
        "    for root, dirs, files in os.walk(folder):\n",
        "        for filename in files:\n",
        "            if filename.endswith(('.jpg', '.jpeg', '.png')):\n",
        "                total_images += 1\n",
        "    return total_images\n",
        "\n",
        "folder_path1 = '/content/drive/MyDrive/Meme/Harmful/'\n",
        "folder_path2 = '/content/drive/MyDrive/Meme/Non-harmful'\n",
        "\n",
        "print(f'Harmful images: {count_images(folder_path1)}')\n",
        "print(f'Non-harmful images: {count_images(folder_path2)}')\n"
      ],
      "metadata": {
        "id": "QLiiKWK-HWVo",
        "colab": {
          "base_uri": "https://localhost:8080/"
        },
        "outputId": "194d9d84-d6a6-4380-914a-cff6ce952e35"
      },
      "execution_count": 5,
      "outputs": [
        {
          "output_type": "stream",
          "name": "stdout",
          "text": [
            "Harmful images: 279\n",
            "Non-harmful images: 1067\n"
          ]
        }
      ]
    }
  ]
}