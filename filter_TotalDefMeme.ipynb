{
 "cells": [
  {
   "cell_type": "code",
   "execution_count": null,
   "metadata": {},
   "outputs": [],
   "source": [
    "from PIL import Image\n",
    "import os\n",
    "\n",
    "image_directory = '../shared/TD_Memes'\n",
    "image_files = []\n",
    "image_extensions = {'.jpg', '.jpeg', '.png', '.gif', '.bmp'}\n",
    "\n",
    "for filename in os.listdir(image_directory):\n",
    "    if os.path.splitext(filename)[1].lower() in image_extensions:\n",
    "        image_path = os.path.join(image_directory, filename)\n",
    "        image_files.append(image_path)\n"
   ]
  },
  {
   "cell_type": "code",
   "execution_count": null,
   "metadata": {},
   "outputs": [],
   "source": [
    "# image_index = 5\n",
    "\n",
    "# if 0 <= image_index < len(image_files):\n",
    "#     with Image.open(image_files[image_index]) as img:\n",
    "#         img.show()"
   ]
  },
  {
   "cell_type": "code",
   "execution_count": null,
   "metadata": {},
   "outputs": [],
   "source": [
    "import json\n",
    "\n",
    "with open('annotation.json', 'r') as json_file:\n",
    "    data = json.load(json_file)\n"
   ]
  },
  {
   "cell_type": "code",
   "execution_count": null,
   "metadata": {},
   "outputs": [],
   "source": [
    "from PIL import Image\n",
    "\n",
    "image_name = 'img_4810.jpg'\n",
    "image = Image.open(f\"{image_directory}/{image_name}\")\n",
    "image.save(\"test.png\")"
   ]
  },
  {
   "cell_type": "code",
   "execution_count": null,
   "metadata": {},
   "outputs": [],
   "source": [
    "labels = data[\"Pillar_Stances\"]\n",
    "len(labels)"
   ]
  },
  {
   "cell_type": "code",
   "execution_count": null,
   "metadata": {},
   "outputs": [],
   "source": [
    "target_dict = None\n",
    "\n",
    "for dictionary in labels:\n",
    "    if 'img_6422.jpg' in dictionary:\n",
    "        target_dict = dictionary\n",
    "        break\n",
    "\n",
    "print(target_dict)\n"
   ]
  },
  {
   "cell_type": "markdown",
   "metadata": {},
   "source": [
    "Look at the against images"
   ]
  },
  {
   "cell_type": "code",
   "execution_count": null,
   "metadata": {},
   "outputs": [],
   "source": [
    "import os\n",
    "from shutil import copyfile\n",
    "output_directory = \"Against\"\n",
    "categories = ['Military Defence', 'Economic Defence', 'Psychological Defence', 'Social Defence', 'Civil Defence', 'Digital Defence', 'Others']\n",
    "\n",
    "# Create a folder for each category\n",
    "# for category in categories:\n",
    "#     category_folder = os.path.join(output_directory, category)\n",
    "#     os.makedirs(category_folder, exist_ok=True)\n",
    "\n",
    "# Copy the Against images to their respective category folders\n",
    "for image_dict in labels:\n",
    "    for img_name, categories in image_dict.items():\n",
    "        for category, evaluations in categories:\n",
    "            if all(evaluation == 'Against' for evaluation in evaluations):\n",
    "                source_path = os.path.join(image_directory, img_name)\n",
    "                destination_path = os.path.join(output_directory, category, img_name)\n",
    "                print(destination_path)\n",
    "                copyfile(source_path, destination_path)\n"
   ]
  },
  {
   "cell_type": "markdown",
   "metadata": {},
   "source": [
    "Mass filter the not-Against images"
   ]
  },
  {
   "cell_type": "code",
   "execution_count": null,
   "metadata": {},
   "outputs": [],
   "source": [
    "for image_dict in labels:\n",
    "    for img_name, categories in image_dict.items():\n",
    "        for category, evaluations in categories:\n",
    "            if all(evaluation != 'Against' for evaluation in evaluations):\n",
    "                source_path = os.path.join(image_directory, img_name)\n",
    "                destination_path = os.path.join(\"Non-Harmful\", img_name)\n",
    "                copyfile(source_path, destination_path)"
   ]
  }
 ],
 "metadata": {
  "kernelspec": {
   "display_name": "Python 3",
   "language": "python",
   "name": "python3"
  },
  "language_info": {
   "codemirror_mode": {
    "name": "ipython",
    "version": 3
   },
   "file_extension": ".py",
   "mimetype": "text/x-python",
   "name": "python",
   "nbconvert_exporter": "python",
   "pygments_lexer": "ipython3",
   "version": "3.8.10"
  }
 },
 "nbformat": 4,
 "nbformat_minor": 2
}
